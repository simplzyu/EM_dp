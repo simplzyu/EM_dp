{
 "cells": [
  {
   "cell_type": "code",
   "execution_count": 1,
   "metadata": {
    "collapsed": true
   },
   "outputs": [],
   "source": [
    "import tensorflow as tf\n",
    "import numpy as np\n",
    "import math\n",
    "from collections import Counter\n",
    "import matplotlib.pyplot as plt"
   ]
  },
  {
   "cell_type": "code",
   "execution_count": 83,
   "metadata": {},
   "outputs": [],
   "source": [
    "#得到均值为u,标准差为stddev,大小为size 的高斯分布数组\n",
    "def get_normal(u,stddev,size):\n",
    "    nums = np.random.normal(u,stddev,size)\n",
    "    \n",
    "    #nums = [int(x) for x in nums]\n",
    "    '''\n",
    "    counter = sorted(Counter(nums).items(), key=lambda x:x[0])\n",
    "    keys, possibles = [],[]\n",
    "    for num, count in counter:\n",
    "        keys.append(num)\n",
    "        possibles.append(count/size)\n",
    "    '''\n",
    "    return nums #, keys, possibles\n",
    "    #print(nums)\n",
    "    \n",
    "def mean(nums):\n",
    "    return sum(nums)/len(nums)\n",
    "\n",
    "    "
   ]
  },
  {
   "cell_type": "code",
   "execution_count": 292,
   "metadata": {},
   "outputs": [],
   "source": [
    "nums_female = get_normal(155,8,300000)\n",
    "nums_male = get_normal(180,8,200000)"
   ]
  },
  {
   "cell_type": "code",
   "execution_count": 293,
   "metadata": {},
   "outputs": [
    {
     "data": {
      "image/png": "[encoded data removed]",
      "text/plain": [
       "<matplotlib.figure.Figure at 0x126073eb8>"
      ]
     },
     "metadata": {},
     "output_type": "display_data"
    }
   ],
   "source": [
    "test_num = get_normal(218,10,300000)\n",
    "plt.hist(test_num, 150)\n",
    "plt.show()"
   ]
  },
  {
   "cell_type": "code",
   "execution_count": 294,
   "metadata": {},
   "outputs": [
    {
     "data": {
      "image/png": "[encoded data removed]",
      "text/plain": [
       "<matplotlib.figure.Figure at 0x12611f438>"
      ]
     },
     "metadata": {},
     "output_type": "display_data"
    }
   ],
   "source": [
    "#plt.style.use('classic') \n",
    "plt.hist(nums_female, 150)\n",
    "plt.hist(nums_male, 150)\n",
    "plt.show()"
   ]
  },
  {
   "cell_type": "code",
   "execution_count": 295,
   "metadata": {},
   "outputs": [
    {
     "data": {
      "image/png": "[encoded data removed]",
      "text/plain": [
       "<matplotlib.figure.Figure at 0x126da1748>"
      ]
     },
     "metadata": {},
     "output_type": "display_data"
    }
   ],
   "source": [
    "plt.hist(np.append(nums_male,nums_female), 150,normed=True,histtype='stepfilled',color='green')\n",
    "plt.show()"
   ]
  },
  {
   "cell_type": "code",
   "execution_count": 296,
   "metadata": {},
   "outputs": [],
   "source": [
    "def gauss(x, u, stddev):\n",
    "    power = ((x-u)**2)/(2*stddev**2)\n",
    "    y = (math.exp(-power))/(stddev*math.sqrt(2*math.pi))\n",
    "    return y\n",
    "\n",
    "def get_values(p, x, ug, stdg):\n",
    "    yg = [p * gauss(x, ug, stdg) for x in list(xg)]\n",
    "    return yg"
   ]
  },
  {
   "cell_type": "code",
   "execution_count": 297,
   "metadata": {},
   "outputs": [],
   "source": [
    "def isSame(arga, argb):\n",
    "    for i in range(len(arga)):\n",
    "        if abs(arga[i] - argb[i]) > 0.01:\n",
    "            return False\n",
    "    return True\n",
    "\n",
    "def run_EM(height):\n",
    "    N = len(height)\n",
    "    pg = 0.5\n",
    "    pb = 0.5\n",
    "    \n",
    "    ug,stdg = min(height),4\n",
    "    ub,stdb = max(height),4\n",
    "    \n",
    "    pre = [pg, pb, ug, stdg, ub, stdb]\n",
    "    rb = list(range(N))\n",
    "    rg = list(range(N))\n",
    "    epoch = 0\n",
    "    while epoch < 30:\n",
    "        for i in range(N):\n",
    "            nb = pb*gauss(height[i], ub, stdb)\n",
    "            ng = pg*gauss(height[i], ug, stdg)\n",
    "            rb[i] = nb/(nb + ng)\n",
    "            rg[i] = ng/(nb + ng)\n",
    "\n",
    "        Nb = sum(rb)  \n",
    "        Ng = sum(rg)  \n",
    "        \n",
    "        #均值更新\n",
    "        ub = sum([height[i]*rb[i] for i in range(len(height))])/Nb\n",
    "        ug = sum([height[i]*rg[i] for i in range(len(height))])/Ng\n",
    "\n",
    "        tmp_stdb, tmp_stdg = 0,0\n",
    "        for i in range(N):\n",
    "            tmp_stdb += rb[i]*((height[i]-ub)**2)\n",
    "            tmp_stdg += rg[i]*((height[i]-ug)**2)\n",
    "        #方差更新\n",
    "        stdb = math.sqrt(tmp_stdb/Nb)\n",
    "        stdg = math.sqrt(tmp_stdg/Ng)\n",
    "\n",
    "        #占比更新\n",
    "        pb = Nb/N\n",
    "        pg = Ng/N\n",
    "\n",
    "        now = [pg, pb, ug, stdg, ub, stdb]\n",
    "        if isSame(pre, now) == True:\n",
    "            break\n",
    "        pre = now\n",
    "        print('Iter ' + str(epoch))\n",
    "        print('Female mean/stddev:\\t' + str(ug) + \"/\" + str(stdg))\n",
    "        print('Male mean/stddev:\\t' + str(ub) + \"/\" + str(stdb))\n",
    "        print('Female/Male:\\t' + str(pg) + ' ' + str(pb) + ' ' + str(pg + pb) + '\\n')\n",
    "        epoch += 1\n",
    "    return ug, stdg, ub, stdb, pg, pb"
   ]
  },
  {
   "cell_type": "code",
   "execution_count": 298,
   "metadata": {
    "scrolled": true
   },
   "outputs": [
    {
     "name": "stdout",
     "output_type": "stream",
     "text": [
      "Iter 0\n",
      "Female mean/stddev:\t153.822280775/6.904312911091691\n",
      "Male mean/stddev:\t179.263790276/7.889258702712056\n",
      "Female/Male:\t0.5608380779050632 0.4391619220949378 1.000000000000001\n",
      "\n",
      "Iter 1\n",
      "Female mean/stddev:\t154.177082703/7.364258912925464\n",
      "Male mean/stddev:\t179.098981574/8.344152797250592\n",
      "Female/Male:\t0.565918297732156 0.43408170226783366 0.9999999999999896\n",
      "\n",
      "Iter 2\n",
      "Female mean/stddev:\t154.336227019/7.539411005874529\n",
      "Male mean/stddev:\t179.089530259/8.470165850817876\n",
      "Female/Male:\t0.569390967089187 0.43060903291081154 0.9999999999999986\n",
      "\n",
      "Iter 3\n",
      "Female mean/stddev:\t154.426235818/7.624184892260478\n",
      "Male mean/stddev:\t179.12757766/8.49383913539927\n",
      "Female/Male:\t0.5721290269006314 0.4278709730993684 0.9999999999999998\n",
      "\n",
      "Iter 4\n",
      "Female mean/stddev:\t154.487168411/7.672928370942846\n",
      "Male mean/stddev:\t179.18157096/8.479759650530575\n",
      "Female/Male:\t0.574476258065423 0.42552374193456544 0.9999999999999885\n",
      "\n",
      "Iter 5\n",
      "Female mean/stddev:\t154.534403371/7.705844041715757\n",
      "Male mean/stddev:\t179.239554219/8.451724104483004\n",
      "Female/Male:\t0.576573335581034 0.4234266644189567 0.9999999999999907\n",
      "\n",
      "Iter 6\n",
      "Female mean/stddev:\t154.574366225/7.731254818656759\n",
      "Male mean/stddev:\t179.296686452/8.419379218353837\n",
      "Female/Male:\t0.5784838693312183 0.4215161306687773 0.9999999999999956\n",
      "\n",
      "Iter 7\n",
      "Female mean/stddev:\t154.609865727/7.752739548109233\n",
      "Male mean/stddev:\t179.351037712/8.38673713560753\n",
      "Female/Male:\t0.5802398824185567 0.41976011758143555 0.9999999999999922\n",
      "\n",
      "Iter 8\n",
      "Female mean/stddev:\t154.642181088/7.771872375714922\n",
      "Male mean/stddev:\t179.40192304/8.355431410695951\n",
      "Female/Male:\t0.5818598626404197 0.41814013735956373 0.9999999999999833\n",
      "\n",
      "Iter 9\n",
      "Female mean/stddev:\t154.671932613/7.789362020197774\n",
      "Male mean/stddev:\t179.449195415/8.326070087135735\n",
      "Female/Male:\t0.5833563029862469 0.41664369701374065 0.9999999999999876\n",
      "\n",
      "Iter 10\n",
      "Female mean/stddev:\t154.699454582/7.805541611459538\n",
      "Male mean/stddev:\t179.492937187/8.298818551556053\n",
      "Female/Male:\t0.5847389182509918 0.415261081749011 1.0000000000000027\n",
      "\n",
      "Iter 11\n",
      "Female mean/stddev:\t154.724956285/7.820581714009927\n",
      "Male mean/stddev:\t179.53332404/8.273654096979373\n",
      "Female/Male:\t0.5860160247139008 0.41398397528610936 1.0000000000000102\n",
      "\n",
      "Iter 12\n",
      "Female mean/stddev:\t154.748591515/7.834583023894789\n",
      "Male mean/stddev:\t179.570564898/8.250477515569719\n",
      "Female/Male:\t0.5871951308721282 0.41280486912785563 0.9999999999999838\n",
      "\n",
      "Iter 13\n",
      "Female mean/stddev:\t154.770488329/7.847616453526614\n",
      "Male mean/stddev:\t179.604875468/8.229161937000578\n",
      "Female/Male:\t0.5882831896750793 0.41171681032492746 1.0000000000000067\n",
      "\n",
      "Iter 14\n",
      "Female mean/stddev:\t154.79076163/7.859740230636894\n",
      "Male mean/stddev:\t179.636466729/8.209574059051976\n",
      "Female/Male:\t0.5892867069931594 0.4107132930068283 0.9999999999999878\n",
      "\n",
      "Iter 15\n",
      "Female mean/stddev:\t154.809518348/7.871007005296588\n",
      "Male mean/stddev:\t179.66554007/8.191583225952934\n",
      "Female/Male:\t0.5902117903353654 0.4097882096646433 1.0000000000000087\n",
      "\n",
      "Iter 16\n",
      "Female mean/stddev:\t154.826859497/7.881466655838095\n",
      "Male mean/stddev:\t179.692285413/8.175065154068076\n",
      "Female/Male:\t0.5910641737661239 0.40893582623388514 1.0000000000000089\n",
      "\n",
      "Iter 17\n",
      "Female mean/stddev:\t154.842880942/7.891167276902505\n",
      "Male mean/stddev:\t179.716880689/8.15990329636874\n",
      "Female/Male:\t0.5918492341489293 0.4081507658510583 0.9999999999999876\n",
      "\n",
      "Iter 18\n",
      "Female mean/stddev:\t154.857673654/7.9001554267164735\n",
      "Male mean/stddev:\t179.739491928/8.145989163422119\n",
      "Female/Male:\t0.5925720048690301 0.4074279951309753 1.0000000000000053\n",
      "\n",
      "Iter 19\n",
      "Female mean/stddev:\t154.871323796/7.908476096039998\n",
      "Male mean/stddev:\t179.76027364/8.133222183762864\n",
      "Female/Male:\t0.5932371893569163 0.4067628106430808 0.9999999999999971\n",
      "\n",
      "Iter 20\n",
      "Female mean/stddev:\t154.883912776/7.916172593630055\n",
      "Male mean/stddev:\t179.779369324/8.12150936360621\n",
      "Female/Male:\t0.5938491751401964 0.4061508248597854 0.9999999999999818\n",
      "\n",
      "Iter 21\n",
      "Female mean/stddev:\t154.895517304/7.923286426999906\n",
      "Male mean/stddev:\t179.796912051/8.110764863816259\n",
      "Female/Male:\t0.5944120485001105 0.40558795149989374 1.0000000000000042\n",
      "\n",
      "Iter 22\n",
      "Female mean/stddev:\t154.90620948/7.929857207519716\n",
      "Male mean/stddev:\t179.813025053/8.100909548765802\n",
      "Female/Male:\t0.5949296095813515 0.4050703904186334 0.9999999999999849\n",
      "\n",
      "Iter 23\n",
      "Female mean/stddev:\t154.916056921/7.935922587850026\n",
      "Male mean/stddev:\t179.827822332/8.09187053334139\n",
      "Female/Male:\t0.595405387737041 0.4045946122629595 1.0000000000000004\n",
      "\n",
      "Iter 24\n",
      "Female mean/stddev:\t154.9251229/7.941518231121389\n",
      "Male mean/stddev:\t179.841409243/8.083580741186344\n",
      "Female/Male:\t0.5958426568925596 0.40415734310742557 0.9999999999999851\n",
      "\n",
      "Iter 25\n",
      "Female mean/stddev:\t154.933466513/7.946677808159448\n",
      "Male mean/stddev:\t179.853883072/8.075978480812012\n",
      "Female/Male:\t0.5962444507458833 0.40375554925412216 1.0000000000000053\n",
      "\n",
      "Iter 26\n",
      "Female mean/stddev:\t154.941142863/7.951433018093834\n",
      "Male mean/stddev:\t179.865333585/8.069007043079958\n",
      "Female/Male:\t0.5966135776490383 0.4033864223509611 0.9999999999999994\n",
      "\n",
      "Iter 27\n",
      "Female mean/stddev:\t154.948203249/7.95581362781676\n",
      "Male mean/stddev:\t179.875843556/8.062614321616175\n",
      "Female/Male:\t0.5969526350570462 0.40304736494294413 0.9999999999999903\n",
      "\n"
     ]
    }
   ],
   "source": [
    "nums = np.append(nums_male,nums_female)\n",
    "ug, stdg, ub, stdb, pg, pb = run_EM(nums)\n"
   ]
  },
  {
   "cell_type": "code",
   "execution_count": 299,
   "metadata": {},
   "outputs": [
    {
     "name": "stdout",
     "output_type": "stream",
     "text": [
      "154.954695358 7.959847526130546 179.885489267 8.056752456779211 0.5972640234532541 0.4027359765467319\n"
     ]
    }
   ],
   "source": [
    "print(ug, stdg, ub, stdb, pg, pb)"
   ]
  },
  {
   "cell_type": "code",
   "execution_count": 300,
   "metadata": {},
   "outputs": [
    {
     "data": {
      "image/png": "[encoded data removed]",
      "text/plain": [
       "<matplotlib.figure.Figure at 0x126f2e7b8>"
      ]
     },
     "metadata": {},
     "output_type": "display_data"
    }
   ],
   "source": [
    "\n",
    "n, bins, patchs = plt.hist(np.append(nums_male,nums_female), 150,normed=True, color='green')\n",
    "plt.xlim(110,220)\n",
    "x = np.arange(110,220,0.1)\n",
    "yg = get_values(pg, xg, ug, stdg)\n",
    "yb = get_values(pb, x, ub, stdb)\n",
    "plt.plot(x, yg, color='red')\n",
    "plt.plot(x, yb, color='black')\n",
    "plt.show()"
   ]
  },
  {
   "cell_type": "code",
   "execution_count": 242,
   "metadata": {},
   "outputs": [],
   "source": []
  },
  {
   "cell_type": "code",
   "execution_count": 243,
   "metadata": {},
   "outputs": [
    {
     "name": "stdout",
     "output_type": "stream",
     "text": [
      "[ 110.   110.1  110.2 ...,  219.7  219.8  219.9]\n"
     ]
    }
   ],
   "source": []
  },
  {
   "cell_type": "code",
   "execution_count": null,
   "metadata": {
    "collapsed": true
   },
   "outputs": [],
   "source": []
  }
 ],
 "metadata": {
  "kernelspec": {
   "display_name": "Python 3",
   "language": "python",
   "name": "python3"
  },
  "language_info": {
   "codemirror_mode": {
    "name": "ipython",
    "version": 3
   },
   "file_extension": ".py",
   "mimetype": "text/x-python",
   "name": "python",
   "nbconvert_exporter": "python",
   "pygments_lexer": "ipython3",
   "version": "3.6.1"
  }
 },
 "nbformat": 4,
 "nbformat_minor": 2
}
